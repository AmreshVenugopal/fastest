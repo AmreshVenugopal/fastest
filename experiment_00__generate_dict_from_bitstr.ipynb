{
 "cells": [
  {
   "cell_type": "code",
   "execution_count": 1,
   "metadata": {},
   "outputs": [],
   "source": [
    "import binascii\n",
    "import json\n",
    "import random\n",
    "import torch\n",
    "import torch.nn as nn\n",
    "\n",
    "from json import JSONDecodeError"
   ]
  },
  {
   "cell_type": "code",
   "execution_count": 2,
   "metadata": {},
   "outputs": [],
   "source": [
    "def bitstring_generator(words, word_size=8):\n",
    "    return ''.join([random.choice(['0', '1']) for j in range(words) for i in range(word_size)])"
   ]
  },
  {
   "cell_type": "code",
   "execution_count": 3,
   "metadata": {},
   "outputs": [],
   "source": [
    "def bin_to_string(binary_string):\n",
    "    return binascii.unhexlify(format(int(binary_string, 2), 'x')).decode('utf8')"
   ]
  },
  {
   "cell_type": "code",
   "execution_count": 4,
   "metadata": {
    "scrolled": true
   },
   "outputs": [
    {
     "data": {
      "text/plain": [
       "'hello world'"
      ]
     },
     "execution_count": 4,
     "metadata": {},
     "output_type": "execute_result"
    }
   ],
   "source": [
    "bin_to_string('0b110100001100101011011000110110001101111001000000111011101101111011100100110110001100100')"
   ]
  },
  {
   "cell_type": "code",
   "execution_count": 5,
   "metadata": {},
   "outputs": [],
   "source": [
    "def string_to_bin(raw_string):\n",
    "    return bin(int(binascii.hexlify(raw_string), 16))"
   ]
  },
  {
   "cell_type": "code",
   "execution_count": 6,
   "metadata": {},
   "outputs": [
    {
     "data": {
      "text/plain": [
       "'0b100000'"
      ]
     },
     "execution_count": 6,
     "metadata": {},
     "output_type": "execute_result"
    }
   ],
   "source": [
    "string_to_bin(b' ')"
   ]
  },
  {
   "cell_type": "code",
   "execution_count": 26,
   "metadata": {},
   "outputs": [],
   "source": [
    "def string_padder(raw_string, pad_with=' ', pad_len=10000):\n",
    "    string_length = len(raw_string)\n",
    "    if string_length > pad_len:\n",
    "        return raw_string\n",
    "    pad_space_count = pad_len - string_length\n",
    "    return raw_string + (pad_with * pad_space_count)"
   ]
  },
  {
   "cell_type": "code",
   "execution_count": 27,
   "metadata": {},
   "outputs": [
    {
     "data": {
      "text/plain": [
       "'apples              '"
      ]
     },
     "execution_count": 27,
     "metadata": {},
     "output_type": "execute_result"
    }
   ],
   "source": [
    "string_padder('apples', pad_len=20)"
   ]
  },
  {
   "cell_type": "code",
   "execution_count": 28,
   "metadata": {},
   "outputs": [],
   "source": [
    "def validate_str_is_json(raw_string):\n",
    "    try:\n",
    "        json.loads(raw_string)\n",
    "        return 1\n",
    "    except JSONDecodeError as e:\n",
    "        return -1"
   ]
  },
  {
   "cell_type": "code",
   "execution_count": 29,
   "metadata": {},
   "outputs": [
    {
     "data": {
      "text/plain": [
       "-1"
      ]
     },
     "execution_count": 29,
     "metadata": {},
     "output_type": "execute_result"
    }
   ],
   "source": [
    "validate_str_is_json(\"{'a': 1}\")"
   ]
  },
  {
   "cell_type": "code",
   "execution_count": 30,
   "metadata": {},
   "outputs": [],
   "source": [
    "class RNN(nn.Module):\n",
    "    def __init__(self, input_size, hidden_size, output_size):\n",
    "        super(RNN, self).__init__()\n",
    "        self.hidden_size = hidden_size\n",
    "\n",
    "        self.i2h = nn.Linear(input_size + hidden_size, hidden_size)\n",
    "        self.i2o = nn.Linear(input_size + hidden_size, output_size)\n",
    "        self.o2o = nn.Linear(hidden_size + output_size, output_size)\n",
    "        self.dropout = nn.Dropout(0.1)\n",
    "        self.softmax = nn.LogSoftmax(dim=1)\n",
    "\n",
    "    def forward(self, category, _input, hidden):\n",
    "        input_combined = torch.cat((_input, hidden), 1)\n",
    "        hidden = self.i2h(input_combined)\n",
    "        output = self.i2o(input_combined)\n",
    "        output_combined = torch.cat((hidden, output), 1)\n",
    "        output = self.o2o(output_combined)\n",
    "        output = self.dropout(output)\n",
    "        output = self.softmax(output)\n",
    "        return output, hidden\n",
    "\n",
    "    def initHidden(self):\n",
    "        return torch.zeros(1, self.hidden_size)"
   ]
  },
  {
   "cell_type": "code",
   "execution_count": 31,
   "metadata": {},
   "outputs": [
    {
     "data": {
      "text/plain": [
       "257"
      ]
     },
     "execution_count": 31,
     "metadata": {},
     "output_type": "execute_result"
    }
   ],
   "source": [
    "len(string_to_bin(b'{\"key_1\": 3, \"key_2\": [1, 2, 3]}'))"
   ]
  },
  {
   "cell_type": "code",
   "execution_count": 59,
   "metadata": {},
   "outputs": [],
   "source": [
    "def make_tensor(line, clip_factor=100000, input_type='bitstr'):\n",
    "    pad_with = '100000' if input_type is 'bitstr' else ' '\n",
    "    clip_line = string_padder(line[:clip_factor], pad_with=pad_with)\n",
    "    if input_type == 'bitstr':\n",
    "        safe_clip_line = clip_line.replace('0b', '')\n",
    "    else:\n",
    "        safe_clip_line = clip_line\n",
    "    tensor = torch.zeros(clip_factor)\n",
    "    print(len(safe_clip_line))\n",
    "    for i, ch in enumerate(safe_clip_line):\n",
    "        if input_type == 'bitstr':\n",
    "            tensor[i] = int(ch)\n",
    "        else:\n",
    "            tensor[i] = ord(ch)"
   ]
  },
  {
   "cell_type": "code",
   "execution_count": 60,
   "metadata": {},
   "outputs": [],
   "source": [
    "def random_dict_generator():\n",
    "    empty_dict = {}\n",
    "    primitives = ['str', 'int']\n",
    "    key_chars = 'abcdefghijklmnopqrstuvwxyzABCDEFGHIJKLMNOPQRSTUVWXYZ01234567890-_'\n",
    "    random_key_count = random.randint(0, 20)\n",
    "    for i in range(random_key_count):\n",
    "        random_key_length = random.randint(0, 10)\n",
    "        random_key = ''.join(random.sample(key_chars, random_key_length))\n",
    "        random_value_type = random.choice(primitives)\n",
    "        random_value_len = random.randint(0, 20)\n",
    "        if random_value_type == 'str':\n",
    "            empty_dict[random_key] = ''.join(random.sample(key_chars, random_value_len))\n",
    "        else:\n",
    "            empty_dict[random_key] = random_value_len\n",
    "    return json.dumps(empty_dict)"
   ]
  },
  {
   "cell_type": "code",
   "execution_count": 61,
   "metadata": {},
   "outputs": [],
   "source": [
    "def training_data(qty=100000, dist=0.6):\n",
    "    training_data = []\n",
    "    for i in range(qty * dist):\n",
    "        random_dict = random_dict_generator().encode('utf8')\n",
    "        training_data[i] = [make_tensor(string_to_bin(random_dict)), make_tensor(random_dict, input_type='raw_string')]\n",
    "    return training_data"
   ]
  },
  {
   "cell_type": "code",
   "execution_count": 62,
   "metadata": {},
   "outputs": [],
   "source": [
    "criterion = nn.NLLLoss()\n",
    "\n",
    "learning_rate = 0.0005\n",
    "\n",
    "def train(input_line_tensor, target_line_tensor):\n",
    "    hidden = rnn.initHidden()\n",
    "#     rnn.zero_grad()\n",
    "    loss = 0\n",
    "    print(input_line_tensor)\n",
    "#     for i in range(input_line_tensor):\n",
    "#         output, hidden = rnn(category_tensor, input_line_tensor[i], hidden)\n",
    "#         l = criterion(output, target_line_tensor[i])\n",
    "#         loss += l\n",
    "\n",
    "#     loss.backward()\n",
    "\n",
    "#     for p in rnn.parameters():\n",
    "#         p.data.add_(-learning_rate, p.grad.data)\n",
    "\n",
    "#     return output, loss.item() / input_line_tensor.size(0)"
   ]
  },
  {
   "cell_type": "code",
   "execution_count": 63,
   "metadata": {},
   "outputs": [
    {
     "name": "stdout",
     "output_type": "stream",
     "text": [
      "53433\n"
     ]
    },
    {
     "ename": "TypeError",
     "evalue": "can't concat str to bytes",
     "output_type": "error",
     "traceback": [
      "\u001b[0;31m---------------------------------------------------------------------------\u001b[0m",
      "\u001b[0;31mTypeError\u001b[0m                                 Traceback (most recent call last)",
      "\u001b[0;32m<ipython-input-63-867898294d96>\u001b[0m in \u001b[0;36m<module>\u001b[0;34m\u001b[0m\n\u001b[1;32m      1\u001b[0m \u001b[0mrandom_dict\u001b[0m \u001b[0;34m=\u001b[0m \u001b[0mrandom_dict_generator\u001b[0m\u001b[0;34m(\u001b[0m\u001b[0;34m)\u001b[0m\u001b[0;34m.\u001b[0m\u001b[0mencode\u001b[0m\u001b[0;34m(\u001b[0m\u001b[0;34m'utf8'\u001b[0m\u001b[0;34m)\u001b[0m\u001b[0;34m\u001b[0m\u001b[0m\n\u001b[0;32m----> 2\u001b[0;31m \u001b[0mtrain\u001b[0m\u001b[0;34m(\u001b[0m\u001b[0mmake_tensor\u001b[0m\u001b[0;34m(\u001b[0m\u001b[0mstring_to_bin\u001b[0m\u001b[0;34m(\u001b[0m\u001b[0mrandom_dict\u001b[0m\u001b[0;34m)\u001b[0m\u001b[0;34m)\u001b[0m\u001b[0;34m,\u001b[0m \u001b[0mmake_tensor\u001b[0m\u001b[0;34m(\u001b[0m\u001b[0mrandom_dict\u001b[0m\u001b[0;34m)\u001b[0m\u001b[0;34m)\u001b[0m\u001b[0;34m\u001b[0m\u001b[0m\n\u001b[0m",
      "\u001b[0;32m<ipython-input-59-f0f076c48174>\u001b[0m in \u001b[0;36mmake_tensor\u001b[0;34m(line, clip_factor, input_type)\u001b[0m\n\u001b[1;32m      1\u001b[0m \u001b[0;32mdef\u001b[0m \u001b[0mmake_tensor\u001b[0m\u001b[0;34m(\u001b[0m\u001b[0mline\u001b[0m\u001b[0;34m,\u001b[0m \u001b[0mclip_factor\u001b[0m\u001b[0;34m=\u001b[0m\u001b[0;36m100000\u001b[0m\u001b[0;34m,\u001b[0m \u001b[0minput_type\u001b[0m\u001b[0;34m=\u001b[0m\u001b[0;34m'bitstr'\u001b[0m\u001b[0;34m)\u001b[0m\u001b[0;34m:\u001b[0m\u001b[0;34m\u001b[0m\u001b[0m\n\u001b[1;32m      2\u001b[0m     \u001b[0mpad_with\u001b[0m \u001b[0;34m=\u001b[0m \u001b[0;34m'100000'\u001b[0m \u001b[0;32mif\u001b[0m \u001b[0minput_type\u001b[0m \u001b[0;32mis\u001b[0m \u001b[0;34m'bitstr'\u001b[0m \u001b[0;32melse\u001b[0m \u001b[0;34m' '\u001b[0m\u001b[0;34m\u001b[0m\u001b[0m\n\u001b[0;32m----> 3\u001b[0;31m     \u001b[0mclip_line\u001b[0m \u001b[0;34m=\u001b[0m \u001b[0mstring_padder\u001b[0m\u001b[0;34m(\u001b[0m\u001b[0mline\u001b[0m\u001b[0;34m[\u001b[0m\u001b[0;34m:\u001b[0m\u001b[0mclip_factor\u001b[0m\u001b[0;34m]\u001b[0m\u001b[0;34m,\u001b[0m \u001b[0mpad_with\u001b[0m\u001b[0;34m=\u001b[0m\u001b[0mpad_with\u001b[0m\u001b[0;34m)\u001b[0m\u001b[0;34m\u001b[0m\u001b[0m\n\u001b[0m\u001b[1;32m      4\u001b[0m     \u001b[0;32mif\u001b[0m \u001b[0minput_type\u001b[0m \u001b[0;34m==\u001b[0m \u001b[0;34m'bitstr'\u001b[0m\u001b[0;34m:\u001b[0m\u001b[0;34m\u001b[0m\u001b[0m\n\u001b[1;32m      5\u001b[0m         \u001b[0msafe_clip_line\u001b[0m \u001b[0;34m=\u001b[0m \u001b[0mclip_line\u001b[0m\u001b[0;34m.\u001b[0m\u001b[0mreplace\u001b[0m\u001b[0;34m(\u001b[0m\u001b[0;34m'0b'\u001b[0m\u001b[0;34m,\u001b[0m \u001b[0;34m''\u001b[0m\u001b[0;34m)\u001b[0m\u001b[0;34m\u001b[0m\u001b[0m\n",
      "\u001b[0;32m<ipython-input-26-82871c2ae494>\u001b[0m in \u001b[0;36mstring_padder\u001b[0;34m(raw_string, pad_with, pad_len)\u001b[0m\n\u001b[1;32m      4\u001b[0m         \u001b[0;32mreturn\u001b[0m \u001b[0mraw_string\u001b[0m\u001b[0;34m\u001b[0m\u001b[0m\n\u001b[1;32m      5\u001b[0m     \u001b[0mpad_space_count\u001b[0m \u001b[0;34m=\u001b[0m \u001b[0mpad_len\u001b[0m \u001b[0;34m-\u001b[0m \u001b[0mstring_length\u001b[0m\u001b[0;34m\u001b[0m\u001b[0m\n\u001b[0;32m----> 6\u001b[0;31m     \u001b[0;32mreturn\u001b[0m \u001b[0mraw_string\u001b[0m \u001b[0;34m+\u001b[0m \u001b[0;34m(\u001b[0m\u001b[0mpad_with\u001b[0m \u001b[0;34m*\u001b[0m \u001b[0mpad_space_count\u001b[0m\u001b[0;34m)\u001b[0m\u001b[0;34m\u001b[0m\u001b[0m\n\u001b[0m",
      "\u001b[0;31mTypeError\u001b[0m: can't concat str to bytes"
     ]
    }
   ],
   "source": [
    "random_dict = random_dict_generator().encode('utf8')\n",
    "train(make_tensor(string_to_bin(random_dict)), make_tensor(random_dict))"
   ]
  },
  {
   "cell_type": "code",
   "execution_count": null,
   "metadata": {},
   "outputs": [],
   "source": [
    "a = '0b1111011001000100011000101101101011100010100011000110101001000100011101000100000001100010011011100101100001000000010001001000001001100000010001000111010001000000011001000101100001000000010001001101111010100000101001001110000001000100011101000100000001100010010110000100000001000100110101101000001011011010101111101000010001000100011101000100000001000100101101001001010001110000110011101000011011110010110100100110100011000110110110101111000010101010101011000110011011011100010001000101100001000000010001000110100010111110111001101001011001101010101010000100010001110100010000000110000001011000010000000100010011010100111100101100011011011100110000101110011001101100101001000100010001110100010000000100010011100100110010101001110011000010010001000101100001000000010001001010110011011110101101000111000010001000100110100111001001000100011101000100000001100010011100101111101      '"
   ]
  },
  {
   "cell_type": "code",
   "execution_count": 152,
   "metadata": {},
   "outputs": [
    {
     "data": {
      "text/plain": [
       "'1111011001000100011000101101101011100010100011000110101001000100011101000100000001100010011011100101100001000000010001001000001001100000010001000111010001000000011001000101100001000000010001001101111010100000101001001110000001000100011101000100000001100010010110000100000001000100110101101000001011011010101111101000010001000100011101000100000001000100101101001001010001110000110011101000011011110010110100100110100011000110110110101111000010101010101011000110011011011100010001000101100001000000010001000110100010111110111001101001011001101010101010000100010001110100010000000110000001011000010000000100010011010100111100101100011011011100110000101110011001101100101001000100010001110100010000000100010011100100110010101001110011000010010001000101100001000000010001001010110011011110101101000111000010001000100110100111001001000100011101000100000001100010011100101111101      '"
      ]
     },
     "execution_count": 152,
     "metadata": {},
     "output_type": "execute_result"
    }
   ],
   "source": [
    "a.replace('0b', '')"
   ]
  },
  {
   "cell_type": "code",
   "execution_count": 191,
   "metadata": {},
   "outputs": [
    {
     "data": {
      "text/plain": [
       "65"
      ]
     },
     "execution_count": 191,
     "metadata": {},
     "output_type": "execute_result"
    }
   ],
   "source": [
    "ord('A')"
   ]
  },
  {
   "cell_type": "code",
   "execution_count": null,
   "metadata": {},
   "outputs": [],
   "source": []
  }
 ],
 "metadata": {
  "kernelspec": {
   "display_name": "Python 3",
   "language": "python",
   "name": "python3"
  },
  "language_info": {
   "codemirror_mode": {
    "name": "ipython",
    "version": 3
   },
   "file_extension": ".py",
   "mimetype": "text/x-python",
   "name": "python",
   "nbconvert_exporter": "python",
   "pygments_lexer": "ipython3",
   "version": "3.5.6"
  }
 },
 "nbformat": 4,
 "nbformat_minor": 2
}
